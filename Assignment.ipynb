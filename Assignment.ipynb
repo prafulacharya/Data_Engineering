{
 "cells": [
  {
   "cell_type": "code",
   "execution_count": null,
   "id": "28c1dee9",
   "metadata": {},
   "outputs": [],
   "source": [
    "import sqlite3\n",
    "import csv\n",
    "\n",
    "#create db\n",
    "conn = sqlite3.connect('XYZ_DATABASE.db')\n",
    "cursor = conn.cursor()\n",
    "\n",
    "#create business tables\n",
    "\n",
    "cursor.execute(\"CREATE TABLE Sales(sales_id, customer_id)\")\n",
    "cursor.execute(\"CREATE TABLE Customer(customer_id, age)\")\n",
    "cursor.execute(\"CREATE TABLE Orders(order_id, sales_id, item_id, quantity)\")\n",
    "cursor.execute(\"CREATE TABLE Items(item_id, item_name)\")\n",
    "\n",
    "\n",
    "# Execute SQL query to retrieve the required data\n",
    "cursor.execute('''\n",
    "    SELECT C.CustomerID, C.Age, I.Item, SUM(IFNULL(O.Quantity, 0)) AS TotalQuantity\n",
    "    FROM Customer C\n",
    "    JOIN Orders O ON C.CustomerID = O.CustomerID\n",
    "    JOIN Items I ON O.ItemID = I.ItemID\n",
    "    WHERE C.Age BETWEEN 18 AND 35\n",
    "    GROUP BY C.CustomerID, C.Age, I.Item\n",
    "    HAVING TotalQuantity > 0\n",
    "''')\n",
    "\n",
    "# Fetch all the results\n",
    "rows = cursor.fetchall()\n",
    "\n",
    "# Write results to a CSV file\n",
    "with open('output.csv', 'w', newline='') as csvfile:\n",
    "    csv_writer = csv.writer(csvfile, delimiter=';')    r\n",
    "    csv_writer.writerow(['Customer', 'Age', 'Item', 'Quantity'])    \n",
    "    csv_writer.writerows(rows)\n",
    "\n",
    "\n",
    "conn.commit()\n",
    "conn.close()\n"
   ]
  },
  {
   "cell_type": "code",
   "execution_count": null,
   "id": "02ef6fcd",
   "metadata": {},
   "outputs": [],
   "source": [
    "import sqlite3\n",
    "import pandas as pd\n",
    "\n",
    "# Read the data from SQLite database into a DataFrame\n",
    "conn = sqlite3.connect('XYZ_DATABASE.db')\n",
    "query = '''\n",
    "    SELECT C.CustomerID, C.Age, I.Item, IFNULL(O.Quantity, 0) AS Quantity\n",
    "    FROM Customer C\n",
    "    JOIN Orders O ON C.CustomerID = O.CustomerID\n",
    "    JOIN Items I ON O.ItemID = I.ItemID\n",
    "    WHERE C.Age BETWEEN 18 AND 35\n",
    "'''\n",
    "df = pd.read_sql_query(query, conn)\n",
    "\n",
    "result_df = df.groupby(['CustomerID', 'Age', 'Item'])['Quantity'].sum().reset_index()\n",
    "\n",
    "\n",
    "result_df = result_df[result_df['Quantity'] > 0]\n",
    "\n",
    "result_df.to_csv('output.csv', sep=';', index=False)\n",
    "\n",
    "\n",
    "conn.close()\n"
   ]
  }
 ],
 "metadata": {
  "kernelspec": {
   "display_name": "Python 3 (ipykernel)",
   "language": "python",
   "name": "python3"
  },
  "language_info": {
   "codemirror_mode": {
    "name": "ipython",
    "version": 3
   },
   "file_extension": ".py",
   "mimetype": "text/x-python",
   "name": "python",
   "nbconvert_exporter": "python",
   "pygments_lexer": "ipython3",
   "version": "3.9.13"
  }
 },
 "nbformat": 4,
 "nbformat_minor": 5
}
