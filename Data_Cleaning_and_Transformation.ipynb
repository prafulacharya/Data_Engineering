{
 "cells": [
  {
   "cell_type": "markdown",
   "id": "6905a5c1",
   "metadata": {},
   "source": [
    "# All the dependencies"
   ]
  },
  {
   "cell_type": "code",
   "execution_count": 112,
   "id": "ab080128",
   "metadata": {},
   "outputs": [],
   "source": [
    "#will keep all dependence in 1st cell\n",
    "import pandas as pd\n",
    "import numpy as np\n",
    "import random \n",
    "import matplotlib.pyplot as plt\n",
    "import seaborn as sns\n"
   ]
  },
  {
   "cell_type": "markdown",
   "id": "c5a483e3",
   "metadata": {},
   "source": [
    "# Data Extraction "
   ]
  },
  {
   "cell_type": "code",
   "execution_count": 113,
   "id": "20a255aa",
   "metadata": {},
   "outputs": [
    {
     "name": "stdout",
     "output_type": "stream",
     "text": [
      "<class 'pandas.core.frame.DataFrame'>\n",
      "      Account No       DATE               TRANSACTION DETAILS  CHQ.NO.  \\\n",
      "0  409000611074' 2017-06-29  TRF FROM  Indiaforensic SERVICES      NaN   \n",
      "1  409000611074' 2017-07-05  TRF FROM  Indiaforensic SERVICES      NaN   \n",
      "2  409000611074' 2017-07-18        FDRL/INTERNAL FUND TRANSFE      NaN   \n",
      "3  409000611074' 2017-08-01   TRF FRM  Indiaforensic SERVICES      NaN   \n",
      "4  409000611074' 2017-08-16        FDRL/INTERNAL FUND TRANSFE      NaN   \n",
      "\n",
      "  VALUE DATE  WITHDRAWAL AMT  DEPOSIT AMT  BALANCE AMT  .  \n",
      "0 2017-06-29             NaN    1000000.0    1000000.0  .  \n",
      "1 2017-07-05             NaN    1000000.0    2000000.0  .  \n",
      "2 2017-07-18             NaN     500000.0    2500000.0  .  \n",
      "3 2017-08-01             NaN    3000000.0    5500000.0  .  \n",
      "4 2017-08-16             NaN     500000.0    6000000.0  .  \n"
     ]
    }
   ],
   "source": [
    "# Replace 'your_file.xlsx' with the path to your Excel file.\n",
    "file_path = 'bank.xlsx'\n",
    "\n",
    "# Read the Excel file into a DataFrame.\n",
    "# you can create dataframe from different source, pd.DataFrame(data), pd.read_csv(file_path), pd.read_json(file_path), \n",
    "#pd.read_sql(query, connection)\n",
    "bank_df = pd.read_excel(file_path)\n",
    "\n",
    "print(type(bank_df))\n",
    "# Display the first few rows of the DataFrame to verify the data.\n",
    "print(bank_df.head(5))\n"
   ]
  },
  {
   "cell_type": "markdown",
   "id": "0865455b",
   "metadata": {},
   "source": [
    "# NaN in Pandas is equivalent to NULL in SQL"
   ]
  },
  {
   "cell_type": "markdown",
   "id": "844e6d40",
   "metadata": {},
   "source": [
    "# Data Cleaning"
   ]
  },
  {
   "cell_type": "code",
   "execution_count": 114,
   "id": "a5069a8c",
   "metadata": {},
   "outputs": [],
   "source": [
    "#remove character from text # text.lstrip() #form left, text.rstrip() #from right, text.strip()\n",
    "#strip() removes characters from both ends of a string.\n",
    "\n",
    "#to remove only first occurance of character the you need to using find() find index and replace.\n",
    "#find() locates the index of the first occurrence of a character or substring in a string, which can be used for further string manipulation\n",
    "\n",
    "#replace() replaces specified characters or substrings in a string.\n",
    "\n",
    "# text = \"Hello, World!!!\"\n",
    "# result = text.rstrip(\"!\")\n",
    "# print(result)  \n",
    "# text = \"##This is a sample text!!!\"\n",
    "# result = text.lstrip(\"#\")\n",
    "# print(result)  \n",
    "# text = \"This is a sample text with some a's and b's.\"\n",
    "# char_to_remove = 'a'  # The character you want to remove\n",
    "# # Remove all occurrences of the specified character\n",
    "# modified_text = text.replace(char_to_remove, '')\n",
    "# print(modified_text)"
   ]
  },
  {
   "cell_type": "code",
   "execution_count": 115,
   "id": "7af7676b",
   "metadata": {},
   "outputs": [
    {
     "name": "stdout",
     "output_type": "stream",
     "text": [
      "          Account No       DATE               TRANSACTION DETAILS  CHQ.NO.  \\\n",
      "0       409000611074 2017-06-29  TRF FROM  Indiaforensic SERVICES      NaN   \n",
      "1       409000611074 2017-07-05  TRF FROM  Indiaforensic SERVICES      NaN   \n",
      "2       409000611074 2017-07-18        FDRL/INTERNAL FUND TRANSFE      NaN   \n",
      "3       409000611074 2017-08-01   TRF FRM  Indiaforensic SERVICES      NaN   \n",
      "4       409000611074 2017-08-16        FDRL/INTERNAL FUND TRANSFE      NaN   \n",
      "...              ...        ...                               ...      ...   \n",
      "116196  409000362497 2019-03-05  TRF TO 1196428  Indiaforensic SE      NaN   \n",
      "116197  409000362497 2019-03-05        FDRL/INTERNAL FUND TRANSFE      NaN   \n",
      "116198  409000362497 2019-03-05        FDRL/INTERNAL FUND TRANSFE      NaN   \n",
      "116199  409000362497 2019-03-05                 IMPS 05-03-20194C      NaN   \n",
      "116200  409000362497 2019-03-05         Sweep Trf To: 40900036427      NaN   \n",
      "\n",
      "       VALUE DATE  WITHDRAWAL AMT  DEPOSIT AMT   BALANCE AMT  .  \n",
      "0      2017-06-29             NaN    1000000.0  1.000000e+06  .  \n",
      "1      2017-07-05             NaN    1000000.0  2.000000e+06  .  \n",
      "2      2017-07-18             NaN     500000.0  2.500000e+06  .  \n",
      "3      2017-08-01             NaN    3000000.0  5.500000e+06  .  \n",
      "4      2017-08-16             NaN     500000.0  6.000000e+06  .  \n",
      "...           ...             ...          ...           ... ..  \n",
      "116196 2019-03-05       117934.30          NaN -1.901902e+09  .  \n",
      "116197 2019-03-05             NaN     300000.0 -1.901602e+09  .  \n",
      "116198 2019-03-05             NaN     300000.0 -1.901302e+09  .  \n",
      "116199 2019-03-05       109868.65          NaN -1.901412e+09  .  \n",
      "116200 2019-03-05         5000.00          NaN -1.901417e+09  .  \n",
      "\n",
      "[116201 rows x 9 columns]\n",
      "          Account No       DATE               TRANSACTION DETAILS CHQ.NO.  \\\n",
      "0       409000611074 2017-06-29  TRF FROM  Indiaforensic SERVICES     nan   \n",
      "1       409000611074 2017-07-05  TRF FROM  Indiaforensic SERVICES     nan   \n",
      "2       409000611074 2017-07-18        FDRL/INTERNAL FUND TRANSFE     nan   \n",
      "3       409000611074 2017-08-01   TRF FRM  Indiaforensic SERVICES     nan   \n",
      "4       409000611074 2017-08-16        FDRL/INTERNAL FUND TRANSFE     nan   \n",
      "...              ...        ...                               ...     ...   \n",
      "116196  409000362497 2019-03-05  TRF TO 1196428  Indiaforensic SE     nan   \n",
      "116197  409000362497 2019-03-05        FDRL/INTERNAL FUND TRANSFE     nan   \n",
      "116198  409000362497 2019-03-05        FDRL/INTERNAL FUND TRANSFE     nan   \n",
      "116199  409000362497 2019-03-05                 IMPS 05-03-20194C     nan   \n",
      "116200  409000362497 2019-03-05         Sweep Trf To: 40900036427     nan   \n",
      "\n",
      "       VALUE DATE  WITHDRAWAL AMT  DEPOSIT AMT   BALANCE AMT  .  \n",
      "0      2017-06-29             NaN    1000000.0  1.000000e+06  .  \n",
      "1      2017-07-05             NaN    1000000.0  2.000000e+06  .  \n",
      "2      2017-07-18             NaN     500000.0  2.500000e+06  .  \n",
      "3      2017-08-01             NaN    3000000.0  5.500000e+06  .  \n",
      "4      2017-08-16             NaN     500000.0  6.000000e+06  .  \n",
      "...           ...             ...          ...           ... ..  \n",
      "116196 2019-03-05       117934.30          NaN -1.901902e+09  .  \n",
      "116197 2019-03-05             NaN     300000.0 -1.901602e+09  .  \n",
      "116198 2019-03-05             NaN     300000.0 -1.901302e+09  .  \n",
      "116199 2019-03-05       109868.65          NaN -1.901412e+09  .  \n",
      "116200 2019-03-05         5000.00          NaN -1.901417e+09  .  \n",
      "\n",
      "[116201 rows x 9 columns]\n"
     ]
    }
   ],
   "source": [
    "#check for columns in df \n",
    "#print(bank_df.columns)\n",
    "bank_df.drop('.', axis=1)\n",
    "bank_df\n",
    "#check data type values in each column \n",
    "# acc=bank_df.loc[0]['CHQ.NO.']\n",
    "# print(type(acc))\n",
    "\n",
    "# rstrip to remove character on right of account number \n",
    "bank_df['Account No'] = bank_df['Account No'].str.rstrip(\"'\").astype(np.int64) # normal int is 32 bit, so used int64\n",
    "print(bank_df)\n",
    "\n",
    "# #chnage the data typeof check number to str \n",
    "bank_df['CHQ.NO.'] = bank_df['CHQ.NO.'].astype(str)\n",
    "\n",
    "\n",
    "# #fill nan check number with random numbers \n",
    "def generate_checknums():\n",
    "    return random.randint(1000000, 10000000)\n",
    "\n",
    "bank_df['CHQ.NO.'].fillna(generate_checknums(), inplace=True)\n",
    "\n",
    "print(bank_df)\n",
    "\n",
    "\n"
   ]
  },
  {
   "cell_type": "markdown",
   "id": "a22cc076",
   "metadata": {},
   "source": [
    "# EDA Exploratory Data Analysis "
   ]
  },
  {
   "cell_type": "code",
   "execution_count": 116,
   "id": "06b62b60",
   "metadata": {},
   "outputs": [
    {
     "name": "stdout",
     "output_type": "stream",
     "text": [
      "Summary Statistics:\n",
      "         Account No  WITHDRAWAL AMT   DEPOSIT AMT   BALANCE AMT\n",
      "count  1.162010e+05    5.354900e+04  6.265200e+04  1.162010e+05\n",
      "mean   2.002261e+11    4.489190e+06  3.806586e+06 -1.404852e+09\n",
      "std    2.044558e+11    1.084850e+07  8.683093e+06  5.348202e+08\n",
      "min    1.196428e+06    1.000000e-02  1.000000e-02 -2.045201e+09\n",
      "25%    1.196428e+06    3.000000e+03  9.900000e+04 -1.690383e+09\n",
      "50%    1.196711e+06    4.708300e+04  4.265000e+05 -1.661395e+09\n",
      "75%    4.090004e+11    5.000000e+06  4.746411e+06 -1.236888e+09\n",
      "max    4.090006e+11    4.594475e+08  5.448000e+08  8.500000e+06\n"
     ]
    },
    {
     "data": {
      "image/png": "[encoded data removed]",
      "text/plain": [
       "<Figure size 600x600 with 1 Axes>"
      ]
     },
     "metadata": {},
     "output_type": "display_data"
    },
    {
     "data": {
      "image/png": "[encoded data removed]",
      "text/plain": [
       "<Figure size 1000x800 with 2 Axes>"
      ]
     },
     "metadata": {},
     "output_type": "display_data"
    }
   ],
   "source": [
    "import pandas as pd\n",
    "import matplotlib.pyplot as plt\n",
    "import seaborn as sns\n",
    "\n",
    "# Load the bank_df DataFrame (assuming you've already loaded it)\n",
    "# If not, you can use the code to load it as shown before.\n",
    "\n",
    "# 1. Summary Statistics\n",
    "summary_stats = bank_df.describe()\n",
    "print(\"Summary Statistics:\")\n",
    "print(summary_stats)\n",
    "\n",
    "# 2. Data Distributions (Histograms)\n",
    "plt.figure(figsize=(6, 6))\n",
    "sns.histplot(bank_df['DEPOSIT AMT'], kde=True, color='blue') #Kernel Density Estimation.\n",
    "plt.title('Deposit Amount Distribution')\n",
    "plt.xlabel('Deposit Amount')\n",
    "plt.ylabel('Frequency')\n",
    "plt.show()\n",
    "\n",
    "\n",
    "# 3. Correlations\n",
    "#When you apply bank_df.corr(), it computes correlations for all the numerical columns in the DataFrame.\n",
    "correlation_matrix = bank_df.corr()\n",
    "plt.figure(figsize=(10, 8))\n",
    "sns.heatmap(correlation_matrix, annot=True, cmap='coolwarm')\n",
    "plt.title('Correlation Heatmap')\n",
    "plt.show()\n"
   ]
  },
  {
   "cell_type": "markdown",
   "id": "8aa02174",
   "metadata": {},
   "source": [
    "# Data Transformation:"
   ]
  },
  {
   "cell_type": "code",
   "execution_count": 117,
   "id": "eb36a50d",
   "metadata": {},
   "outputs": [
    {
     "name": "stdout",
     "output_type": "stream",
     "text": [
      "     Account No   DEPOSIT AMT\n",
      "0       1196428  6.838251e+10\n",
      "1       1196711  4.587889e+10\n",
      "2  409000362497  1.017209e+11\n",
      "3  409000405747  2.287852e+08\n",
      "4  409000425051  2.703186e+07\n",
      "5  409000438611  4.705899e+09\n",
      "6  409000438620  1.720243e+10\n",
      "7  409000493201  9.565931e+07\n",
      "8  409000493210  1.022096e+08\n",
      "9  409000611074  1.458596e+08\n"
     ]
    }
   ],
   "source": [
    "#Create a New Column:\n",
    "bank_df['Total Amount'] = bank_df['DEPOSIT AMT'] + bank_df['WITHDRAWAL AMT']\n",
    "\n",
    "#Data Filtering:\n",
    "filtered_df = bank_df[bank_df['DEPOSIT AMT'] > 2000]\n",
    "\n",
    "#Data Aggregation:\n",
    "account_summary = bank_df.groupby('Account No')['DEPOSIT AMT'].sum().reset_index()\n",
    "print(account_summary)"
   ]
  },
  {
   "cell_type": "markdown",
   "id": "8a5ba0db",
   "metadata": {},
   "source": [
    "# Data Loading:"
   ]
  },
  {
   "cell_type": "code",
   "execution_count": 124,
   "id": "bd0dc59d",
   "metadata": {},
   "outputs": [
    {
     "name": "stdout",
     "output_type": "stream",
     "text": [
      "Engine(mssql+pyodbc://GRAPHENE_PRAFUL\\SQLEXPRESS/DATA_PRACTICE?driver=ODBC+Driver+17+for+SQL+Server)\n"
     ]
    }
   ],
   "source": [
    "from sqlalchemy import create_engine\n",
    "server_name = \"GRAPHENE_PRAFUL\\SQLEXPRESS\"\n",
    "database_name = \"DATA_PRACTICE\"\n",
    "conn_str = f\"mssql+pyodbc://{server_name}/{database_name}?driver=ODBC+Driver+17+for+SQL+Server\"\n",
    "engine = create_engine(conn_str)\n",
    "\n",
    "print(engine)"
   ]
  },
  {
   "cell_type": "code",
   "execution_count": 125,
   "id": "301fed28",
   "metadata": {},
   "outputs": [
    {
     "data": {
      "text/plain": [
       "-1"
      ]
     },
     "execution_count": 125,
     "metadata": {},
     "output_type": "execute_result"
    }
   ],
   "source": [
    "table_name = \"FilteredData\"\n",
    "filtered_df.to_sql(table_name, engine, if_exists=\"replace\", index=False)\n"
   ]
  },
  {
   "cell_type": "code",
   "execution_count": null,
   "id": "4c8c76e8",
   "metadata": {},
   "outputs": [],
   "source": []
  },
  {
   "cell_type": "code",
   "execution_count": null,
   "id": "1616b776",
   "metadata": {},
   "outputs": [],
   "source": []
  },
  {
   "cell_type": "code",
   "execution_count": null,
   "id": "5f039cb5",
   "metadata": {},
   "outputs": [],
   "source": []
  }
 ],
 "metadata": {
  "kernelspec": {
   "display_name": "Python 3 (ipykernel)",
   "language": "python",
   "name": "python3"
  },
  "language_info": {
   "codemirror_mode": {
    "name": "ipython",
    "version": 3
   },
   "file_extension": ".py",
   "mimetype": "text/x-python",
   "name": "python",
   "nbconvert_exporter": "python",
   "pygments_lexer": "ipython3",
   "version": "3.9.13"
  }
 },
 "nbformat": 4,
 "nbformat_minor": 5
}
