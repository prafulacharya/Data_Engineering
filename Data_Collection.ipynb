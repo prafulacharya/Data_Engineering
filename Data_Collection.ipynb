{
  "nbformat": 4,
  "nbformat_minor": 0,
  "metadata": {
    "colab": {
      "name": "Data Collection",
      "provenance": [],
      "collapsed_sections": [],
      "include_colab_link": true
    },
    "kernelspec": {
      "display_name": "Python 3",
      "name": "python3"
    }
  },
  "cells": [
    {
      "cell_type": "markdown",
      "metadata": {
        "id": "view-in-github",
        "colab_type": "text"
      },
      "source": [
        "<a href=\"https://colab.research.google.com/github/prafulacharya/Data_Science/blob/master/Data_Collection.ipynb\" target=\"_parent\"><img src=\"https://colab.research.google.com/assets/colab-badge.svg\" alt=\"Open In Colab\"/></a>"
      ]
    },
    {
      "cell_type": "code",
      "metadata": {
        "id": "7oOm9vNiSYHd"
      },
      "source": [
        "import os\r\n",
        "import time\r\n",
        "import requests\r\n",
        "import sys"
      ],
      "execution_count": null,
      "outputs": []
    },
    {
      "cell_type": "code",
      "metadata": {
        "id": "XdeoBkVKSkfc",
        "colab": {
          "base_uri": "https://localhost:8080/"
        },
        "outputId": "2c3e3c0c-157e-494b-d0dc-f444b6e93f15"
      },
      "source": [
        "def Data_Collection():\r\n",
        "  for year in range(2015,2020):\r\n",
        "    for month in range(1,13):\r\n",
        "      if (month<10):\r\n",
        "        url='https://en.tutiempo.net/climate/0{}-{}/ws-432950.html'.format(month, year)\r\n",
        "      else:\r\n",
        "        url='https://en.tutiempo.net/climate/0{}-{}/ws-432950.html'.format(month, year)\r\n",
        "\r\n",
        "      Data=requests.get(url)\r\n",
        "      #to fix some characters in the html tags\r\n",
        "      Data_utf=Data.text.encode('utf=8')\r\n",
        "\r\n",
        "      if not os.path.exists(\"/Air Quality Index/Html_Data/{}\".format(year)):\r\n",
        "        os.makedirs(\"/Air Quality Index/Html_Data/{}\".format(year))\r\n",
        "        #creating a file in html format\r\n",
        "      with open(\"/Air Quality Index/Html_Data/{}/{}\".format(year,month),\"wb\") as output:\r\n",
        "        output.write(Data_utf)\r\n",
        "\r\n",
        "      sys.stdout.flush()\r\n",
        "\r\n",
        "\r\n",
        "if __name__==\"__main__\":\r\n",
        "  start_time=time.time()\r\n",
        "  Data_Collection()\r\n",
        "  End_time=time.time()\r\n",
        "  print(\"Time Taken {}\".format(End_time-start_time))\r\n",
        "\r\n",
        "\r\n",
        "  \r\n"
      ],
      "execution_count": null,
      "outputs": [
        {
          "output_type": "stream",
          "text": [
            "Time Taken 30.94892144203186\n"
          ],
          "name": "stdout"
        }
      ]
    }
  ]
}