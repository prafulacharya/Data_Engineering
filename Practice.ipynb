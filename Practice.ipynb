{
 "cells": [
  {
   "cell_type": "markdown",
   "metadata": {
    "application/vnd.databricks.v1+cell": {
     "cellMetadata": {
      "byteLimit": 2048000,
      "rowLimit": 10000
     },
     "inputWidgets": {},
     "nuid": "6b0d5b3e-25e6-4007-9c42-615cd57877fe",
     "showTitle": false,
     "title": "Practice "
    }
   },
   "source": [
    "#Basics of file system in databricks \n"
   ]
  },
  {
   "cell_type": "code",
   "execution_count": 0,
   "metadata": {
    "application/vnd.databricks.v1+cell": {
     "cellMetadata": {
      "byteLimit": 2048000,
      "rowLimit": 10000
     },
     "inputWidgets": {},
     "nuid": "96917b61-675f-4ee1-a6f2-ea31a85c0a0d",
     "showTitle": false,
     "title": ""
    }
   },
   "outputs": [],
   "source": [
    "# dbutils.help()\n",
    "# dbutils.fs.help()\n",
    "# dbutils.fs.help(\"cp\")\n",
    "\n",
    "# dbutils.fs.ls(\"/\")  #command to list all directory, FileStore, mnt are only default along with dataset and results folders.\n",
    "# display(dbutils.fs.ls(\"/\")) # create a new folder in dbfs(databricks file system)\n",
    "# dbutils.fs.mkdirs(\"dbfs:/temp\")\n",
    "# Remember backslash before first folder.\n",
    "# dbutils.fs.rm(\"dbfs:/temp/\", True)  #command to delete any folders # The second argument, True, indicates recursive deletion\n",
    "# dbutils.fs.rm(\"dbfs:/\")\n"
   ]
  },
  {
   "cell_type": "code",
   "execution_count": 0,
   "metadata": {
    "application/vnd.databricks.v1+cell": {
     "cellMetadata": {
      "byteLimit": 2048000,
      "rowLimit": 10000
     },
     "inputWidgets": {},
     "nuid": "4801f158-443f-466c-ac78-e1864f59728d",
     "showTitle": false,
     "title": ""
    }
   },
   "outputs": [],
   "source": [
    "#HOW TO DELETE ALL THE FILES INSIDE FOLDER RECURSIVELY and FS file system \n",
    "\n",
    "# %fs ls /\n",
    "# stick with dbt package (dbutils)\n",
    "# dbutils.fs.rm(\"dbfs:/mnt/readeachjson1/*\", True)\n",
    "# dbutils.fs.ls(\"dbfs:/mnt/readeachjson1\")\n",
    "#dbutils.fs.rm(\"/mnt/readeachjson1/*\", recurse=True)\n",
    "#dbutils.fs.rm(\"dbfs:/mnt/readeachjson1/*\", recurse=True)\n"
   ]
  },
  {
   "cell_type": "markdown",
   "metadata": {
    "application/vnd.databricks.v1+cell": {
     "cellMetadata": {
      "byteLimit": 2048000,
      "rowLimit": 10000
     },
     "inputWidgets": {},
     "nuid": "0a560eba-ce10-4d9c-bf7f-eea8654db2c4",
     "showTitle": false,
     "title": ""
    }
   },
   "source": [
    "#Create DataFrame using Pandas and Pyspark"
   ]
  },
  {
   "cell_type": "code",
   "execution_count": 0,
   "metadata": {
    "application/vnd.databricks.v1+cell": {
     "cellMetadata": {
      "byteLimit": 2048000,
      "rowLimit": 10000
     },
     "inputWidgets": {},
     "nuid": "7edcf2e0-f733-486d-84fe-9dd5eefb6d3f",
     "showTitle": false,
     "title": ""
    }
   },
   "outputs": [
    {
     "output_type": "display_data",
     "data": {
      "text/html": [
       "<style scoped>\n",
       "  .table-result-container {\n",
       "    max-height: 300px;\n",
       "    overflow: auto;\n",
       "  }\n",
       "  table, th, td {\n",
       "    border: 1px solid black;\n",
       "    border-collapse: collapse;\n",
       "  }\n",
       "  th, td {\n",
       "    padding: 5px;\n",
       "  }\n",
       "  th {\n",
       "    text-align: left;\n",
       "  }\n",
       "</style><div class='table-result-container'><table class='table-result'><thead style='background-color: white'><tr><th>id</th><th>name</th><th>age</th><th>department</th></tr></thead><tbody><tr><td>1</td><td>Alice</td><td>10</td><td>HR</td></tr><tr><td>2</td><td>Bob</td><td>20</td><td>IT</td></tr><tr><td>3</td><td>Char</td><td>30</td><td>Finance</td></tr><tr><td>4</td><td>Diana</td><td>40</td><td>HR</td></tr><tr><td>5</td><td>Emily</td><td>50</td><td>IT</td></tr></tbody></table></div>"
      ]
     },
     "metadata": {
      "application/vnd.databricks.v1+output": {
       "addedWidgets": {},
       "aggData": [],
       "aggError": "",
       "aggOverflow": false,
       "aggSchema": [],
       "aggSeriesLimitReached": false,
       "aggType": "",
       "arguments": {},
       "columnCustomDisplayInfos": {},
       "data": [
        [
         1,
         "Alice",
         10,
         "HR"
        ],
        [
         2,
         "Bob",
         20,
         "IT"
        ],
        [
         3,
         "Char",
         30,
         "Finance"
        ],
        [
         4,
         "Diana",
         40,
         "HR"
        ],
        [
         5,
         "Emily",
         50,
         "IT"
        ]
       ],
       "datasetInfos": [],
       "dbfsResultPath": null,
       "isJsonSchema": true,
       "metadata": {},
       "overflow": false,
       "plotOptions": {
        "customPlotOptions": {},
        "displayType": "table",
        "pivotAggregation": null,
        "pivotColumns": null,
        "xColumns": null,
        "yColumns": null
       },
       "removedWidgets": [],
       "schema": [
        {
         "metadata": "{}",
         "name": "id",
         "type": "\"long\""
        },
        {
         "metadata": "{}",
         "name": "name",
         "type": "\"string\""
        },
        {
         "metadata": "{}",
         "name": "age",
         "type": "\"long\""
        },
        {
         "metadata": "{}",
         "name": "department",
         "type": "\"string\""
        }
       ],
       "type": "table"
      }
     },
     "output_type": "display_data"
    }
   ],
   "source": [
    "import pandas as pd\n",
    "\n",
    "data = {\n",
    "    \"id\": [1, 2, 3, 4, 5],\n",
    "    \"name\": ['Alice', 'Bob', 'Char', 'Diana', 'Emily'],\n",
    "    \"age\": [10, 20, 30, 40, 50],\n",
    "    \"department\": ['HR', 'IT', 'Finance', 'HR', 'IT']\n",
    "}\n",
    "\n",
    "pdf = pd.DataFrame(data)\n",
    "display(pdf)\n",
    "#How to cwrite pandas dataframe into dbfs \n",
    "# Write the DataFrame to a CSV file in DBFS \n",
    "#df.to_csv('dbfs:/FileStore/a.csv', index=False)\n",
    "\n"
   ]
  },
  {
   "cell_type": "markdown",
   "metadata": {
    "application/vnd.databricks.v1+cell": {
     "cellMetadata": {
      "byteLimit": 2048000,
      "rowLimit": 10000
     },
     "inputWidgets": {},
     "nuid": "4152c927-49aa-4d21-991e-cf3736b5fbfa",
     "showTitle": false,
     "title": ""
    }
   },
   "source": [
    "Pyspark Dataframe "
   ]
  },
  {
   "cell_type": "code",
   "execution_count": 0,
   "metadata": {
    "application/vnd.databricks.v1+cell": {
     "cellMetadata": {
      "byteLimit": 2048000,
      "rowLimit": 10000
     },
     "inputWidgets": {},
     "nuid": "aa80cab7-58e4-4ecb-8d14-e669955a01a4",
     "showTitle": false,
     "title": ""
    }
   },
   "outputs": [],
   "source": [
    "from pyspark.sql import SparkSession\n",
    "from pyspark import Row\n",
    "\n",
    "spark =SparkSession.builder.appName(\"Pysaprk practice\").getOrCreate()\n",
    "# display(spark) \n",
    "\n",
    "data=[\n",
    "    Row(id=1,F_name=\"Praful\", L_name='BS',Salary=50000),\n",
    "    Row(id=2,F_name='Rakesh', L_name='jkl',Salary=60000),\n",
    "    Row(id=3,F_name='Suvarna', L_name='ling',Salary=70000)\n",
    "]\n",
    "# df=spark.createDataFrame(data)\n",
    "# df.write.csv(\"/temp/employee.csv\", header=True,mode=\"overwrite\")\n",
    "# display(df)"
   ]
  },
  {
   "cell_type": "markdown",
   "metadata": {
    "application/vnd.databricks.v1+cell": {
     "cellMetadata": {
      "byteLimit": 2048000,
      "rowLimit": 10000
     },
     "inputWidgets": {},
     "nuid": "b3c53d56-1430-4ca4-b5a6-7a627087c3cb",
     "showTitle": false,
     "title": ""
    }
   },
   "source": [
    "Look at the difference while creating df, in pandas you take data as data ={'c':[v1,v2..]}\n",
    "%md In spark data as list of rows, column name don't come inside double quotes data =[ Row(c=V, c='v2', c3='v3',c4=v4)]"
   ]
  },
  {
   "cell_type": "markdown",
   "metadata": {
    "application/vnd.databricks.v1+cell": {
     "cellMetadata": {
      "byteLimit": 2048000,
      "rowLimit": 10000
     },
     "inputWidgets": {},
     "nuid": "f59c838b-bfc8-494c-8fd0-f8085c933053",
     "showTitle": false,
     "title": ""
    }
   },
   "source": [
    "#Create a DF using Data, Data with schema, csv, txt, json, parquet etc."
   ]
  },
  {
   "cell_type": "code",
   "execution_count": 0,
   "metadata": {
    "application/vnd.databricks.v1+cell": {
     "cellMetadata": {
      "byteLimit": 2048000,
      "rowLimit": 10000
     },
     "inputWidgets": {},
     "nuid": "e1253ce3-be48-4d84-8c1e-3976e8b241f6",
     "showTitle": false,
     "title": ""
    }
   },
   "outputs": [
    {
     "output_type": "display_data",
     "data": {
      "text/html": [
       "<style scoped>\n",
       "  .table-result-container {\n",
       "    max-height: 300px;\n",
       "    overflow: auto;\n",
       "  }\n",
       "  table, th, td {\n",
       "    border: 1px solid black;\n",
       "    border-collapse: collapse;\n",
       "  }\n",
       "  th, td {\n",
       "    padding: 5px;\n",
       "  }\n",
       "  th {\n",
       "    text-align: left;\n",
       "  }\n",
       "</style><div class='table-result-container'><table class='table-result'><thead style='background-color: white'><tr><th>id</th><th>name</th><th>age</th><th>department</th></tr></thead><tbody><tr><td>3</td><td>Charlie</td><td>35</td><td>Finance</td></tr><tr><td>1</td><td>Alice</td><td>30</td><td>HR</td></tr><tr><td>4</td><td>David</td><td>28</td><td>HR</td></tr><tr><td>2</td><td>Bob</td><td>25</td><td>IT</td></tr><tr><td>5</td><td>Eva</td><td>32</td><td>IT</td></tr></tbody></table></div>"
      ]
     },
     "metadata": {
      "application/vnd.databricks.v1+output": {
       "addedWidgets": {},
       "aggData": [],
       "aggError": "",
       "aggOverflow": false,
       "aggSchema": [],
       "aggSeriesLimitReached": false,
       "aggType": "",
       "arguments": {},
       "columnCustomDisplayInfos": {},
       "data": [
        [
         "3",
         "Charlie",
         "35",
         "Finance"
        ],
        [
         "1",
         "Alice",
         "30",
         "HR"
        ],
        [
         "4",
         "David",
         "28",
         "HR"
        ],
        [
         "2",
         "Bob",
         "25",
         "IT"
        ],
        [
         "5",
         "Eva",
         "32",
         "IT"
        ]
       ],
       "datasetInfos": [],
       "dbfsResultPath": null,
       "isJsonSchema": true,
       "metadata": {},
       "overflow": false,
       "plotOptions": {
        "customPlotOptions": {},
        "displayType": "table",
        "pivotAggregation": null,
        "pivotColumns": null,
        "xColumns": null,
        "yColumns": null
       },
       "removedWidgets": [],
       "schema": [
        {
         "metadata": "{}",
         "name": "id",
         "type": "\"string\""
        },
        {
         "metadata": "{}",
         "name": "name",
         "type": "\"string\""
        },
        {
         "metadata": "{}",
         "name": "age",
         "type": "\"string\""
        },
        {
         "metadata": "{}",
         "name": "department",
         "type": "\"string\""
        }
       ],
       "type": "table"
      }
     },
     "output_type": "display_data"
    },
    {
     "output_type": "stream",
     "name": "stdout",
     "output_type": "stream",
     "text": [
      "root\n |-- id: string (nullable = true)\n |-- name: string (nullable = true)\n |-- age: string (nullable = true)\n |-- department: string (nullable = true)\n\n"
     ]
    }
   ],
   "source": [
    "# with schema \n",
    "from pyspark.sql import SparkSession \n",
    "from pyspark.sql import Row\n",
    "spark=SparkSession.builder.appName(\"Pyspark\").getOrCreate()\n",
    "from pyspark.sql.types import StructType, StructField, StringType, IntegerType\n",
    "data=[\n",
    "    Row(id=1,F_name=\"Praful\", L_name='BS',Salary=50000),\n",
    "    Row(id=2,F_name='Rakesh', L_name='jkl',Salary=60000),\n",
    "    Row(id=3,F_name='Suvarna', L_name='ling',Salary=70000)\n",
    "]\n",
    "\n",
    "schema =  StructType([StructField(\"id\", IntegerType(), True),\n",
    "                      StructField(\"F_name\", StringType(), True),\n",
    "                      StructField(\"L_name\", StringType(), True),\n",
    "                      StructField(\"Salary\", IntegerType(), True) ])\n",
    "\n",
    "\n",
    "# df=spark.createDataFrame(data, schema)\n",
    "# display(df)\n",
    "\n",
    "#create df using \n",
    "sdf = spark.read.csv(\"/temp/s_employee_data.csv\", header=True)\n",
    "display(sdf)\n",
    "# sdf.show()\n",
    "sdf.printSchema()\n",
    "\n"
   ]
  },
  {
   "cell_type": "markdown",
   "metadata": {
    "application/vnd.databricks.v1+cell": {
     "cellMetadata": {
      "byteLimit": 2048000,
      "rowLimit": 10000
     },
     "inputWidgets": {},
     "nuid": "fcb74d4f-7130-4f68-968a-8686e3775e38",
     "showTitle": false,
     "title": ""
    }
   },
   "source": [
    "How to access rows and columns of pysaprk dataframe and how diffrent from pandas "
   ]
  },
  {
   "cell_type": "code",
   "execution_count": 0,
   "metadata": {
    "application/vnd.databricks.v1+cell": {
     "cellMetadata": {
      "byteLimit": 2048000,
      "rowLimit": 10000
     },
     "inputWidgets": {},
     "nuid": "74398a77-b9dc-4114-9c91-21fcbb771d12",
     "showTitle": false,
     "title": ""
    }
   },
   "outputs": [
    {
     "output_type": "stream",
     "name": "stdout",
     "output_type": "stream",
     "text": [
      "+----------+-----+\n|department|count|\n+----------+-----+\n|   Finance|    1|\n|        HR|    2|\n|        IT|    2|\n+----------+-----+\n\n"
     ]
    }
   ],
   "source": [
    "\n",
    "import pandas as pd \n",
    "from pyspark.sql.functions import col\n",
    "\n",
    "#pandas ways of manupulating data/df\n",
    "\n",
    "# pdf # simply running the DataFrame variable in a cell will display the DataFrame's contents directly \n",
    "# display(sdf) # you typically use the display() function to visualize the contents of a DataFrame.\n",
    "\n",
    "# In pandas df, you use direct indexing of df's, df['column_name'] or df.loc[row_label].\n",
    "# In use functions like select and filter to specify what data you want from the DataFrame.\n",
    "\n",
    "# working with df , don't assign the filter condition to any variables, it might mess it up.\n",
    "# pandas way of accessing columns, rows , boolean kind(vector)\n",
    "\n",
    "# pdf.loc[0,'age'] or df.at[0,'A']  #filter the pdf for single value(row, column)\n",
    "# pdf['age'] or pdf.age #filter df based on single column name.\n",
    "# pdf.loc[0] #filter df based on row number.\n",
    "\n",
    "# pdf.loc[:,'id':'age'] # filter df based on column range.\n",
    "# pdf.loc[0:2, :] #filter df based on row range \n",
    "\n",
    "# pdf.loc[pdf.age >30] #boolean operation #here I shouldn't assign to an variable\n",
    "# pdf.loc[pdf.age >30, 'department']='Mang' #boolean operation # chnages whole df based on condition.  \n",
    "\n",
    "\n",
    "#spark way of manipulating data/df\n",
    " \n",
    "# display(sdf.take(5)) or sdf.head(5)\n",
    "# sdf.columns\n",
    "\n",
    "# sdf.select(\"age\").show()  #Filter one column\n",
    "# sdf['age'] # this is error because column in not callable  # this is just an column object.\n",
    "\n",
    "# sdf.filter(sdf.age==35).show()  # Filter one row\n",
    "# sdf.filter(sdf.age==35).select('department').show() #use .first()[0] insted of show [You just get one value here not df] # filter one value(row, column)\n",
    "\n",
    "# sdf.select(\"id\",\"age\").show() #filter multiple columns\n",
    "# sdf.filter(sdf.age>30).show() #filter range of rows\n",
    "\n",
    "# Now focus on some spark functions # col, \n",
    "# select cols using function \n",
    "# import pyspark.sql.functions as F\n",
    "# sdf.select(F.col(\"id\"), F.col(\"age\")).show()\n",
    "\n",
    " \n",
    "# using bitwise(&) and pipe(|) operators \n",
    "\n",
    "# sdf.filter((sdf['age']>30) & (sdf['id'] >1)).show()\n",
    "# sdf.filter((sdf.select('age')>30)).show() # this also error \n",
    "\n",
    "# sdf.filter(sdf['age']>30).count() #count of records \n",
    "\n",
    "# from pyspark.sql.functions import when\n",
    "# sdf.withColumn(\"Department\", when(sdf.age>30, \"Fire\")).show() # this overite the valkue in column already existing column department\n",
    "\n",
    "# from pyspark.sql.functions import when\n",
    "# sdf.withColumn(\"Dep\", when(sdf.age>30, \"Fire\")).show() # this add new column to sdf (best way to go)\n",
    "\n",
    "# you can use groupby, agg function(sum, mean, avg etc), distinct ...\n",
    "# sdf.groupBy('department').count().show()  #grouping the data based in column  \n",
    "\n",
    "# df=df.dropDuplicates()  # to remove duplicates \n",
    "\n",
    "# df.write.csv(\"./data/my_dataset.csv\") #writing data into file syatem \n"
   ]
  },
  {
   "cell_type": "code",
   "execution_count": 0,
   "metadata": {
    "application/vnd.databricks.v1+cell": {
     "cellMetadata": {
      "byteLimit": 2048000,
      "rowLimit": 10000
     },
     "inputWidgets": {},
     "nuid": "e912838b-f24d-49f5-9d79-9328a324dd95",
     "showTitle": false,
     "title": ""
    }
   },
   "outputs": [
    {
     "output_type": "display_data",
     "data": {
      "text/plain": [
       ""
      ]
     },
     "metadata": {
      "application/vnd.databricks.v1+output": {
       "arguments": {},
       "data": "",
       "errorSummary": "Command skipped",
       "errorTraceType": "ansi",
       "metadata": {},
       "type": "ipynbError"
      }
     },
     "output_type": "display_data"
    }
   ],
   "source": [
    "d# Using col method\n",
    "column_data = sdf.col(\"column_name\")\n",
    "\n",
    "\n"
   ]
  },
  {
   "cell_type": "code",
   "execution_count": 0,
   "metadata": {
    "application/vnd.databricks.v1+cell": {
     "cellMetadata": {
      "byteLimit": 2048000,
      "rowLimit": 10000
     },
     "inputWidgets": {},
     "nuid": "a2dbf2d3-6dee-4cdc-9301-5a2f64dac413",
     "showTitle": false,
     "title": ""
    }
   },
   "outputs": [],
   "source": []
  }
 ],
 "metadata": {
  "application/vnd.databricks.v1+notebook": {
   "dashboards": [
    {
     "elements": [],
     "globalVars": {},
     "guid": "",
     "layoutOption": {
      "grid": true,
      "stack": true
     },
     "nuid": "7e8166b9-1da0-4371-8739-080594794151",
     "origId": 0,
     "title": "PRACTICE_DASHBOARD",
     "version": "DashboardViewV1",
     "width": 1024
    }
   ],
   "language": "python",
   "notebookMetadata": {
    "mostRecentlyExecutedCommandWithImplicitDF": {
     "commandId": -1,
     "dataframes": [
      "_sqldf"
     ]
    },
    "pythonIndentUnit": 4
   },
   "notebookName": "Practice",
   "widgets": {}
  }
 },
 "nbformat": 4,
 "nbformat_minor": 0
}
